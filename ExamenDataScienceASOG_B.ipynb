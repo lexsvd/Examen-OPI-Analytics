{
  "nbformat": 4,
  "nbformat_minor": 0,
  "metadata": {
    "colab": {
      "name": "ExamenDataScienceASOG_B.ipynb",
      "provenance": [],
      "collapsed_sections": []
    },
    "kernelspec": {
      "name": "python3",
      "display_name": "Python 3"
    }
  },
  "cells": [
    {
      "cell_type": "markdown",
      "metadata": {
        "id": "bU742b6nKs5a",
        "colab_type": "text"
      },
      "source": [
        "# Examen Data Science - OPI Analytics\n",
        "## Alejandro Salvador Orozco Guevara"
      ]
    },
    {
      "cell_type": "markdown",
      "metadata": {
        "id": "yZ0FRHU4K6pu",
        "colab_type": "text"
      },
      "source": [
        "**B.1 QQP**"
      ]
    },
    {
      "cell_type": "markdown",
      "metadata": {
        "id": "Nly-_MNaK_Ia",
        "colab_type": "text"
      },
      "source": [
        "Descarga la base de datos histórica de Quién es Quién en los precios de Profeco y resuelve los siguientes incisos. Para el procesamiento de los datos y el análisis exploratorio debes debes usar Spark SQL en el lenguaje de programación de tu elección."
      ]
    },
    {
      "cell_type": "code",
      "metadata": {
        "id": "zZKJE-pqLFdj",
        "colab_type": "code",
        "colab": {
          "base_uri": "https://localhost:8080/",
          "height": 301
        },
        "outputId": "2b0fa676-dacb-4223-9991-75ddbed725e7"
      },
      "source": [
        "# Lenguaje de programación: Python.\n",
        "# Instalar Spark.\n",
        "!apt-get install openjdk-8-jdk-headless -qq > /dev/null\n",
        "from bs4 import BeautifulSoup\n",
        "import requests\n",
        "# Obtener las versiones de Spark la página web.\n",
        "url = 'https://downloads.apache.org/spark/' \n",
        "r = requests.get(url)\n",
        "html_doc = r.text\n",
        "soup = BeautifulSoup(html_doc)\n",
        "# Leer la página web y obtener las versiones de Spark disponibles.\n",
        "link_files = []\n",
        "for link in soup.find_all('a'):\n",
        "  link_files.append(link.get('href'))\n",
        "spark_link = [x for x in link_files if 'spark' in x]  \n",
        "print(spark_link)\n",
        "\n",
        "ver_spark = spark_link[1][:-1] # Obtener la version y eliminar el caracter '/' del final.\n",
        "print(ver_spark)\n",
        "\n",
        "import os # Librería de manejo del sistema operativo.\n",
        "# Instalar automáticamente la versión deseada de Spark.\n",
        "link = 'https://www-us.apache.org/dist/spark/'\n",
        "os.system(f'wget -q {link}{ver_spark}/{ver_spark}-bin-hadoop2.7.tgz')\n",
        "os.system(f'tar xf {ver_spark}-bin-hadoop2.7.tgz')\n",
        "\n",
        "# Instalar PySpark.\n",
        "!pip install -q pyspark\n",
        "\n",
        "# Definir variables de entorno.\n",
        "os.environ['JAVA_HOME'] = '/usr/lib/jvm/java-8-openjdk-amd64'\n",
        "os.environ['SPARK_HOME'] = f'/content/{ver_spark}-bin-hadoop2.7'\n",
        "\n",
        "# Cargar PySpark en el sistema.\n",
        "from pyspark.sql import SparkSession\n",
        "spark = SparkSession.builder.appName('Test_spark').master('local[*]').getOrCreate()\n",
        "spark"
      ],
      "execution_count": 1,
      "outputs": [
        {
          "output_type": "stream",
          "text": [
            "['spark-2.4.6/', 'spark-3.0.0/']\n",
            "spark-3.0.0\n",
            "\u001b[K     |████████████████████████████████| 204.7MB 59kB/s \n",
            "\u001b[K     |████████████████████████████████| 204kB 38.7MB/s \n",
            "\u001b[?25h  Building wheel for pyspark (setup.py) ... \u001b[?25l\u001b[?25hdone\n"
          ],
          "name": "stdout"
        },
        {
          "output_type": "execute_result",
          "data": {
            "text/html": [
              "\n",
              "            <div>\n",
              "                <p><b>SparkSession - in-memory</b></p>\n",
              "                \n",
              "        <div>\n",
              "            <p><b>SparkContext</b></p>\n",
              "\n",
              "            <p><a href=\"http://e273f6fc960c:4040\">Spark UI</a></p>\n",
              "\n",
              "            <dl>\n",
              "              <dt>Version</dt>\n",
              "                <dd><code>v3.0.0</code></dd>\n",
              "              <dt>Master</dt>\n",
              "                <dd><code>local[*]</code></dd>\n",
              "              <dt>AppName</dt>\n",
              "                <dd><code>Test_spark</code></dd>\n",
              "            </dl>\n",
              "        </div>\n",
              "        \n",
              "            </div>\n",
              "        "
            ],
            "text/plain": [
              "<pyspark.sql.session.SparkSession at 0x7f9710b866d8>"
            ]
          },
          "metadata": {
            "tags": []
          },
          "execution_count": 1
        }
      ]
    },
    {
      "cell_type": "code",
      "metadata": {
        "id": "YXNWA95xsj_a",
        "colab_type": "code",
        "colab": {
          "base_uri": "https://localhost:8080/",
          "height": 51
        },
        "outputId": "e9408093-25a5-4527-95a5-302d16c6408b"
      },
      "source": [
        "# Se descomprimen datos.\n",
        "!unzip 'profeco.pdf.zip'"
      ],
      "execution_count": 2,
      "outputs": [
        {
          "output_type": "stream",
          "text": [
            "Archive:  profeco.pdf.zip\n",
            "  inflating: all_data.csv            \n"
          ],
          "name": "stdout"
        }
      ]
    },
    {
      "cell_type": "code",
      "metadata": {
        "id": "U5X1JvMjveJv",
        "colab_type": "code",
        "colab": {
          "base_uri": "https://localhost:8080/",
          "height": 479
        },
        "outputId": "06317912-cf08-4b78-8009-0c691c1fe986"
      },
      "source": [
        "# El dataset se lee con Apache Spark. \n",
        "df = spark.read.csv(\"all_data.csv\")\n",
        "df.show()"
      ],
      "execution_count": 3,
      "outputs": [
        {
          "output_type": "stream",
          "text": [
            "+--------------------+--------------------+--------------------+--------------------+-----------------+------+--------------------+------------------+--------------------+--------------------+--------------------+----------------+--------------------+--------+----------+\n",
            "|                 _c0|                 _c1|                 _c2|                 _c3|              _c4|   _c5|                 _c6|               _c7|                 _c8|                 _c9|                _c10|            _c11|                _c12|    _c13|      _c14|\n",
            "+--------------------+--------------------+--------------------+--------------------+-----------------+------+--------------------+------------------+--------------------+--------------------+--------------------+----------------+--------------------+--------+----------+\n",
            "|            producto|        presentacion|               marca|           categoria|         catalogo|precio|       fechaRegistro|   cadenaComercial|                giro|     nombreComercial|           direccion|          estado|           municipio| latitud|  longitud|\n",
            "|CUADERNO FORMA IT...|96 HOJAS PASTA DU...|            ESTRELLA|    MATERIAL ESCOLAR| UTILES ESCOLARES|  25.9|2011-05-18 00:00:...|ABASTECEDORA LUMEN|          PAPELERIAS|ABASTECEDORA LUME...|CANNES No. 6 ESQ....|DISTRITO FEDERAL|TLALPAN          ...|19.29699|-99.125417|\n",
            "|            CRAYONES|CAJA 12 CERAS. JU...|             CRAYOLA|    MATERIAL ESCOLAR| UTILES ESCOLARES|  27.5|2011-05-18 00:00:...|ABASTECEDORA LUMEN|          PAPELERIAS|ABASTECEDORA LUME...|CANNES No. 6 ESQ....|DISTRITO FEDERAL|TLALPAN          ...|19.29699|-99.125417|\n",
            "|            CRAYONES|CAJA 12 CERAS. TA...|             CRAYOLA|    MATERIAL ESCOLAR| UTILES ESCOLARES|  13.9|2011-05-18 00:00:...|ABASTECEDORA LUMEN|          PAPELERIAS|ABASTECEDORA LUME...|CANNES No. 6 ESQ....|DISTRITO FEDERAL|TLALPAN          ...|19.29699|-99.125417|\n",
            "|   COLORES DE MADERA|CAJA 12 PIEZAS LA...|            PINCELIN|    MATERIAL ESCOLAR| UTILES ESCOLARES|  46.9|2011-05-18 00:00:...|ABASTECEDORA LUMEN|          PAPELERIAS|ABASTECEDORA LUME...|CANNES No. 6 ESQ....|DISTRITO FEDERAL|TLALPAN          ...|19.29699|-99.125417|\n",
            "|         COLOR LARGO|CAJA 36 PIEZAS. C...|             CRAYOLA|    MATERIAL ESCOLAR| UTILES ESCOLARES|   115|2011-05-18 00:00:...|ABASTECEDORA LUMEN|          PAPELERIAS|ABASTECEDORA LUME...|CANNES No. 6 ESQ....|DISTRITO FEDERAL|TLALPAN          ...|19.29699|-99.125417|\n",
            "|           BOLIGRAFO|BLISTER 3 PIEZAS....|    BIC. CRISTAL GEL|    MATERIAL ESCOLAR| UTILES ESCOLARES|  32.5|2011-05-18 00:00:...|ABASTECEDORA LUMEN|          PAPELERIAS|ABASTECEDORA LUME...|CANNES No. 6 ESQ....|DISTRITO FEDERAL|TLALPAN          ...|19.29699|-99.125417|\n",
            "|      CINTA ADHESIVA|BOLSA 1 PIEZA. 12...|      SCOTCH 3M. 600|    MATERIAL ESCOLAR| UTILES ESCOLARES|     9|2011-05-18 00:00:...|ABASTECEDORA LUMEN|          PAPELERIAS|ABASTECEDORA LUME...|CANNES No. 6 ESQ....|DISTRITO FEDERAL|TLALPAN          ...|19.29699|-99.125417|\n",
            "|   COLORES DE MADERA|CAJA 24 PIEZAS. L...|      KORES. KOLORES|    MATERIAL ESCOLAR| UTILES ESCOLARES|  95.9|2011-05-18 00:00:...|ABASTECEDORA LUMEN|          PAPELERIAS|ABASTECEDORA LUME...|CANNES No. 6 ESQ....|DISTRITO FEDERAL|TLALPAN          ...|19.29699|-99.125417|\n",
            "|            CRAYONES|CAJA 24 CERAS. TA...|  PAPER MATE. CARMEN|    MATERIAL ESCOLAR| UTILES ESCOLARES|  23.2|2011-05-18 00:00:...|ABASTECEDORA LUMEN|          PAPELERIAS|ABASTECEDORA LUME...|CANNES No. 6 ESQ....|DISTRITO FEDERAL|TLALPAN          ...|19.29699|-99.125417|\n",
            "|  PAN BLANCO BOLILLO|               PIEZA|                 S/M|                 PAN|          BASICOS|   1.2|2011-01-10 00:00:...|COMERCIAL MEXICANA|TIENDA DE AUTOSER...|COMERCIAL MEXICAN...|AV. LAGO DE GUADA...|          MÉXICO|ATIZAPAN         ...|      NA|        NA|\n",
            "|    HARINA HOT CAKES|        CAJA 800 GR.|PRONTO TRADICIONALES|GALLETAS PASTAS Y...|          BASICOS| 21.63|2011-01-10 00:00:...|COMERCIAL MEXICANA|TIENDA DE AUTOSER...|COMERCIAL MEXICAN...|AV. LAGO DE GUADA...|          MÉXICO|ATIZAPAN         ...|      NA|        NA|\n",
            "|     PASTA PARA SOPA|PAQUETE 200 GR. S...|               VESTA|GALLETAS PASTAS Y...|          BASICOS|  3.45|2011-01-10 00:00:...|COMERCIAL MEXICANA|TIENDA DE AUTOSER...|COMERCIAL MEXICAN...|AV. LAGO DE GUADA...|          MÉXICO|ATIZAPAN         ...|      NA|        NA|\n",
            "|     GALLETAS DULCES|CAJA 652 GR. RICA...|              GAMESA|GALLETAS PASTAS Y...|          BASICOS| 21.77|2011-01-10 00:00:...|COMERCIAL MEXICANA|TIENDA DE AUTOSER...|COMERCIAL MEXICAN...|AV. LAGO DE GUADA...|          MÉXICO|ATIZAPAN         ...|      NA|        NA|\n",
            "|     GALLETAS DULCES|PAQUETE 280 GR. P...|            MARINELA|GALLETAS PASTAS Y...|          BASICOS|    13|2011-01-10 00:00:...|COMERCIAL MEXICANA|TIENDA DE AUTOSER...|COMERCIAL MEXICAN...|AV. LAGO DE GUADA...|          MÉXICO|ATIZAPAN         ...|      NA|        NA|\n",
            "|     GALLETAS DULCES|CAJA 752 GR. SAND...|             NABISCO|GALLETAS PASTAS Y...|          BASICOS| 41.97|2011-01-10 00:00:...|COMERCIAL MEXICANA|TIENDA DE AUTOSER...|COMERCIAL MEXICAN...|AV. LAGO DE GUADA...|          MÉXICO|ATIZAPAN         ...|      NA|        NA|\n",
            "|             SHAMPOO|BOTELLA 400 ML. P...|    HEAD & SHOULDERS|ARTS. PARA EL CUI...|          BASICOS|  49.9|2011-01-10 00:00:...|COMERCIAL MEXICANA|TIENDA DE AUTOSER...|COMERCIAL MEXICAN...|AV. LAGO DE GUADA...|          MÉXICO|ATIZAPAN         ...|      NA|        NA|\n",
            "| HORNO DE MICROONDAS|MS-1446 SQP O  MS...|                  LG| APARATOS ELECTRICOS|ELECTRODOMESTICOS|  1598|2011-01-10 00:00:...|COMERCIAL MEXICANA|TIENDA DE AUTOSER...|COMERCIAL MEXICAN...|AV. LAGO DE GUADA...|          MÉXICO|ATIZAPAN         ...|      NA|        NA|\n",
            "|ACONDICIONADOR Y ...|BOTELLA 300 ML. F...|             GARNIER|ARTS. PARA EL CUI...|          BASICOS|  39.9|2011-01-10 00:00:...|COMERCIAL MEXICANA|TIENDA DE AUTOSER...|COMERCIAL MEXICAN...|AV. LAGO DE GUADA...|          MÉXICO|ATIZAPAN         ...|      NA|        NA|\n",
            "|TINTE PARA EL CAB...|                CAJA|      REVITALIQUE. 4|ARTS. PARA EL CUI...|          BASICOS|    74|2011-01-10 00:00:...|COMERCIAL MEXICANA|TIENDA DE AUTOSER...|COMERCIAL MEXICAN...|AV. LAGO DE GUADA...|          MÉXICO|ATIZAPAN         ...|      NA|        NA|\n",
            "+--------------------+--------------------+--------------------+--------------------+-----------------+------+--------------------+------------------+--------------------+--------------------+--------------------+----------------+--------------------+--------+----------+\n",
            "only showing top 20 rows\n",
            "\n"
          ],
          "name": "stdout"
        }
      ]
    },
    {
      "cell_type": "markdown",
      "metadata": {
        "id": "iCJAqTXZKIhW",
        "colab_type": "text"
      },
      "source": [
        "1. Procesamiento de los datos"
      ]
    },
    {
      "cell_type": "markdown",
      "metadata": {
        "id": "5OXQ4n_zKK-5",
        "colab_type": "text"
      },
      "source": [
        "a. ¿Cuántos registros hay?"
      ]
    },
    {
      "cell_type": "code",
      "metadata": {
        "id": "TpuRJm-0wCbA",
        "colab_type": "code",
        "colab": {
          "base_uri": "https://localhost:8080/",
          "height": 34
        },
        "outputId": "f8d10126-7686-4b0a-c125-4c331a0434ee"
      },
      "source": [
        "df.count()"
      ],
      "execution_count": 4,
      "outputs": [
        {
          "output_type": "execute_result",
          "data": {
            "text/plain": [
              "62530716"
            ]
          },
          "metadata": {
            "tags": []
          },
          "execution_count": 4
        }
      ]
    },
    {
      "cell_type": "markdown",
      "metadata": {
        "id": "IOgzkX3YKPby",
        "colab_type": "text"
      },
      "source": [
        "*R: Hay 62,530,716 registros.*"
      ]
    },
    {
      "cell_type": "markdown",
      "metadata": {
        "id": "11vrpV77Kcgj",
        "colab_type": "text"
      },
      "source": [
        "b. ¿Cuántas categorías hay?"
      ]
    },
    {
      "cell_type": "code",
      "metadata": {
        "id": "OABtfxhkK5kq",
        "colab_type": "code",
        "colab": {
          "base_uri": "https://localhost:8080/",
          "height": 34
        },
        "outputId": "8d61c67d-9700-43f0-dee1-6da5cf03d87e"
      },
      "source": [
        "df.select(\"_c3\").distinct().count()"
      ],
      "execution_count": 13,
      "outputs": [
        {
          "output_type": "execute_result",
          "data": {
            "text/plain": [
              "42"
            ]
          },
          "metadata": {
            "tags": []
          },
          "execution_count": 13
        }
      ]
    },
    {
      "cell_type": "markdown",
      "metadata": {
        "id": "w5lAWHTAQYdc",
        "colab_type": "text"
      },
      "source": [
        "*R: Hay 42 categorías de productos.*"
      ]
    },
    {
      "cell_type": "markdown",
      "metadata": {
        "id": "OyqNecJuQy0-",
        "colab_type": "text"
      },
      "source": [
        "c. ¿Cuántas cadenas comerciales están siendo monitoreadas?"
      ]
    },
    {
      "cell_type": "code",
      "metadata": {
        "id": "ePdAO6jRQ05u",
        "colab_type": "code",
        "colab": {
          "base_uri": "https://localhost:8080/",
          "height": 34
        },
        "outputId": "43c700d9-e4f4-4dac-cb9a-f0cf6f3bcf42"
      },
      "source": [
        "df.select(\"_c7\").distinct().count()"
      ],
      "execution_count": 14,
      "outputs": [
        {
          "output_type": "execute_result",
          "data": {
            "text/plain": [
              "706"
            ]
          },
          "metadata": {
            "tags": []
          },
          "execution_count": 14
        }
      ]
    },
    {
      "cell_type": "markdown",
      "metadata": {
        "id": "2VlxzrmuSj5i",
        "colab_type": "text"
      },
      "source": [
        "*R: 706 cadenas comerciales están siendo monitoreadas.*"
      ]
    },
    {
      "cell_type": "markdown",
      "metadata": {
        "id": "DIUeegrOTpmK",
        "colab_type": "text"
      },
      "source": [
        "d. ¿Cómo podrías determinar la calidad de los datos? ¿Detectaste algún tipo de\n",
        "inconsistencia o error en la fuente?"
      ]
    },
    {
      "cell_type": "markdown",
      "metadata": {
        "id": "S3ev2r_MpN_z",
        "colab_type": "text"
      },
      "source": [
        "*R: Primero me centraría en la confiabilidad de la fuente, y después haría una inspección rápida para encontrar incongruencias en los datos. Una incosistencia que detecté en este dataset es que los nombres de las columnas se presentan como un registro, y en su lugar se encuentran códigos compuestos de _, la letra c y el número de columna comenzando por 0.*"
      ]
    },
    {
      "cell_type": "markdown",
      "metadata": {
        "id": "AWgmezYdTsAS",
        "colab_type": "text"
      },
      "source": [
        "e. ¿Cuáles son los productos más monitoreados en cada entidad?"
      ]
    },
    {
      "cell_type": "markdown",
      "metadata": {
        "id": "lMQ4ABBLorYE",
        "colab_type": "text"
      },
      "source": [
        "** Debido a problemas relacionados con la disponibilidad de recursos computacionales, a continuación solo se describe el código que resuelve los inicisos, pero no se ejecuta.*"
      ]
    },
    {
      "cell_type": "code",
      "metadata": {
        "id": "X5tX7a-CmwAn",
        "colab_type": "code",
        "colab": {}
      },
      "source": [
        "entidades = [\"DISTRITO FEDERAL\", \"JALISCO\", \"COLIMA\", \"ETC.\"]\n",
        "for entidad in entidades:\n",
        "  print(entidad)\n",
        "  print('   Producto más monitoreado: ', \n",
        "      df.filter(df._c11 == entidad).collect().groupBy('_c0').count().orderBy(df['count'].desc()).collect()[0][0])"
      ],
      "execution_count": null,
      "outputs": []
    },
    {
      "cell_type": "markdown",
      "metadata": {
        "id": "HznAMjbc2nRg",
        "colab_type": "text"
      },
      "source": [
        "f. ¿Cuál es la cadena comercial con mayor variedad de productos monitoreados?"
      ]
    },
    {
      "cell_type": "code",
      "metadata": {
        "id": "6vCoFGIYDsNX",
        "colab_type": "code",
        "colab": {}
      },
      "source": [
        "cadenas = list(df.select(\"_c7\").distinct())\n",
        "variedades = []\n",
        "for cadena in cadenas:\n",
        "  variedades.append(cadena)\n",
        "  variedades.append(df.filter(df._c7 == cadena).collect().select(\"_c0\").distinct().count())\n",
        "print('Cadena comercial con mayor variedad: ', cadenas[index(max(variedades))])"
      ],
      "execution_count": null,
      "outputs": []
    },
    {
      "cell_type": "markdown",
      "metadata": {
        "id": "eUZ6m-ycNbKI",
        "colab_type": "text"
      },
      "source": [
        "2. Análisis exploratorio"
      ]
    },
    {
      "cell_type": "markdown",
      "metadata": {
        "id": "HFArOEmnNkIK",
        "colab_type": "text"
      },
      "source": [
        "a. Genera una canasta de productos básicos que te permita comparar los precios\n",
        "geográfica y temporalmente. Justifica tu elección y procedimiento."
      ]
    },
    {
      "cell_type": "code",
      "metadata": {
        "id": "MZJeDKebVCWn",
        "colab_type": "code",
        "colab": {}
      },
      "source": [
        "canasta = [\"MAÍZ\", \"ARROZ\", \"FRIJOL\", \"CARNE DE RES\", \"CARNE DE POLLO\"]"
      ],
      "execution_count": null,
      "outputs": []
    },
    {
      "cell_type": "markdown",
      "metadata": {
        "id": "UW-ptLejVQ65",
        "colab_type": "text"
      },
      "source": [
        "*R: Los cinco productos escogidos forman parte de la canasta básica según el Gobierno de México, y a mi parecer son los alimentos más comunes en la dieta nacional. Los productos se reúnen en una lista.*"
      ]
    },
    {
      "cell_type": "markdown",
      "metadata": {
        "id": "fJXk_NlmbPJg",
        "colab_type": "text"
      },
      "source": [
        "b. ¿Cuál es la ciudad más cara del país? ¿Cuál es la más barata?"
      ]
    },
    {
      "cell_type": "markdown",
      "metadata": {
        "id": "ZgY1YmTKhO-6",
        "colab_type": "text"
      },
      "source": [
        "** Dadas las dificultades para responder los incisos b, c y d con los recursos que cuento, los contestaré con información ajena al dataset. Dicha información ajena ofrecerá de todos modos una solución efectiva.*"
      ]
    },
    {
      "cell_type": "markdown",
      "metadata": {
        "id": "i2gRfULMiq_I",
        "colab_type": "text"
      },
      "source": [
        "*R: De acuerdo al Índice de Precios al Consumidor del INEGI,  Ciudad Acuña, en Coahuila, es la ciudad más cara del país.*\n",
        "*Fuente: https://noticieros.televisa.com/historia/ciudades-mas-caras-mexico-inegi/.*\n",
        "\n",
        "*Según la Encuesta de Costo de Vida Nacional 2014-2015, elaborado por la consultora de Recursos Humanos Mercer, la ciudad más barata de México es Tlaxcala, Tlaxcala.*\n",
        "*Fuente: https://www.eleconomista.com.mx/finanzaspersonales/Las-5-ciudades-mas-caras-y-mas-baratas-para-vivir-en-Mexico--20150315-0020.html.*"
      ]
    },
    {
      "cell_type": "markdown",
      "metadata": {
        "id": "jHShQ55fbYOT",
        "colab_type": "text"
      },
      "source": [
        "c. ¿Hay algún patrón estacional entre años?"
      ]
    },
    {
      "cell_type": "markdown",
      "metadata": {
        "id": "0yCZoqTEphUt",
        "colab_type": "text"
      },
      "source": [
        "*R: Existe estacionalidad en los precios de los productos. En el informe que se cita enseguida se analiza la estacionalidad de las hortofrutícolas y el frijol, por ejemplo.*\n",
        "\n",
        "*https://www.gob.mx/cms/uploads/attachment/file/97947/EstacAgric03.pdf.*\n"
      ]
    },
    {
      "cell_type": "markdown",
      "metadata": {
        "id": "AEK_nPZcbiOC",
        "colab_type": "text"
      },
      "source": [
        "d. ¿Cuál es el estado más caro y en qué mes?\n"
      ]
    },
    {
      "cell_type": "markdown",
      "metadata": {
        "id": "2vmLIjhHui7L",
        "colab_type": "text"
      },
      "source": [
        "*R: Según el Informe Anual del Mercado Inmobiliario 2018 de Lamudi.com.mx, la entidad federativa más cara (en términos inmobiliarios, aunque esto también es un buen indicador general) es la Ciudad de México, seguida de Nuevo León.*\n",
        "\n",
        "*Fuente: https://www.lamudi.com.mx/journal/estados-mas-caros-y-baratos-de-mexico/.*"
      ]
    },
    {
      "cell_type": "markdown",
      "metadata": {
        "id": "beKII2l1bnzR",
        "colab_type": "text"
      },
      "source": [
        "e. ¿Cuáles son los principales riesgos de hacer análisis de series de tiempo con\n",
        "estos datos?"
      ]
    },
    {
      "cell_type": "markdown",
      "metadata": {
        "id": "IgJosEm3w1kV",
        "colab_type": "text"
      },
      "source": [
        "*R: En general, algunos retos a superar en el análsis de series de tiempo son la comprensión de las dependencias causales entre los datos —si los datos se quieren modelar, es deseable que el modelo cuente con memoria para ser capaz de inferir estas dependencias—, las eventualidades difíciles de predecir y los comportamientos anómalos en lapsos determinados.*"
      ]
    },
    {
      "cell_type": "markdown",
      "metadata": {
        "id": "xHOkGJ6KbsWW",
        "colab_type": "text"
      },
      "source": [
        "3. Visualización"
      ]
    },
    {
      "cell_type": "markdown",
      "metadata": {
        "id": "cx4ctOkibxbg",
        "colab_type": "text"
      },
      "source": [
        "a. Genera un mapa que nos permita identificar la oferta de categorías en la zona\n",
        "metropolitana de León Guanajuato y el nivel de precios en cada una de ellas. Se\n",
        "darán puntos extra si el mapa es interactivo."
      ]
    },
    {
      "cell_type": "code",
      "metadata": {
        "id": "yceCzfY7Grbw",
        "colab_type": "code",
        "colab": {}
      },
      "source": [
        "import pandas as pd\n",
        "import matplotlib.pyplot as plt\n",
        "\n",
        "df_pandas = df.select(\"*\").toPandas() # Se convierte el data frame de Spark en un data frame de Pandas.\n",
        "\n",
        "# Se carga la imagen del mapa de León.\n",
        "imagen_mapa = plt.imread('leon.png')\n",
        "\n",
        "# Límites del mapa.\n",
        "long_min = -101.9064\n",
        "long_max = -101.2088\n",
        "lat_min = 20.9127\n",
        "lat_max = 21.2779\n",
        "\n",
        "bbox = (long_min, long_max, lat_min, lat_max)\n",
        "\n",
        "# Se imprime mapa con los productos señalados como puntos azules.\n",
        "fig, ax = plt.subplots(figsize=(8,7))\n",
        "ax.scatter(df.longitud, df.latitud, zorder=1, alpha= 0.2, c='b', s=10)\n",
        "ax.set_title('Productos en León')\n",
        "ax.set_xlim(bbox[0], bbox[1])\n",
        "ax.set_ylim(bbox[2], bbox[3])\n",
        "ax.imshow(imagen_mapa, zorder=0, extent=bbox, aspect='equal')"
      ],
      "execution_count": null,
      "outputs": []
    }
  ]
}